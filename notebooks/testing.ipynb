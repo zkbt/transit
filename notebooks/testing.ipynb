{
 "cells": [
  {
   "cell_type": "code",
   "execution_count": 3,
   "metadata": {},
   "outputs": [],
   "source": [
    "import numpy as np, matplotlib.pyplot as plt\n",
    "%matplotlib inline\n"
   ]
  },
  {
   "cell_type": "code",
   "execution_count": 4,
   "metadata": {},
   "outputs": [
    {
     "data": {
      "image/png": "[encoded data removed]",
      "text/plain": [
       "<Figure size 432x288 with 1 Axes>"
      ]
     },
     "metadata": {},
     "output_type": "display_data"
    }
   ],
   "source": [
    "from transit.TLC import TLC\n",
    "from transit.TM import TM\n",
    "from transit.Planet import Planet\n",
    "from transit.Star import Star\n",
    "from transit.Instrument import Instrument"
   ]
  },
  {
   "cell_type": "code",
   "execution_count": 5,
   "metadata": {},
   "outputs": [],
   "source": [
    "p = Planet()\n",
    "s = Star()\n",
    "i = Instrument()"
   ]
  },
  {
   "cell_type": "code",
   "execution_count": 11,
   "metadata": {},
   "outputs": [
    {
     "name": "stdout",
     "output_type": "stream",
     "text": [
      "          [tlc] initialized <TLC|Galileo,E=0|Galileo|N=300 good data> directly from .arrays\n",
      "          [tlc]  saved bjd\n",
      "          [tlc]  saved flux\n",
      "          [tlc]  saved uncertainty\n",
      "          [tlc]  saved bad\n",
      "          [tlc]  saved cotrending\n",
      "          [tlc]       cotrending, including:\n",
      "          [tlc]  saved beta\n",
      "          [tlc]  saved rescaling\n",
      "          [tlc]  saved left\n",
      "          [tlc]  saved right\n",
      "          [tlc]  saved telescope\n",
      "          [tlc]  saved epoch\n",
      "          [tlc]  saved name\n",
      "          [tlc] saving light curve to example/, including all its external variables\n",
      "          [tlc] trying to load TLC from example/TLC.npy\n",
      "          [tlc]  loaded bjd\n",
      "          [tlc]  loaded flux\n",
      "          [tlc]  loaded uncertainty\n",
      "          [tlc]  loaded bad\n",
      "          [tlc]  loaded cotrending\n",
      "          [tlc]  loaded beta\n",
      "          [tlc]  loaded rescaling\n",
      "          [tlc]  loaded left\n",
      "          [tlc]  loaded right\n",
      "          [tlc]  loaded telescope\n",
      "          [tlc]  loaded epoch\n",
      "          [tlc]  loaded name\n",
      "          [tlc] initialized <TLC|Galileo,E=0|Galileo|N=300 good data> from .pre-saved file example/\n"
     ]
    }
   ],
   "source": [
    "bjd = np.linspace(p.t0.value - p.duration*1, p.t0.value + p.duration*1, 300)\n",
    "fluxerr = 0.001*np.ones_like(bjd)\n",
    "tlc = TLC(bjd, np.ones_like(bjd), fluxerr, directory='example/', telescope='Galileo', epoch=0)\n",
    "other = TLC( directory='example/', telescope='Galileo', epoch=0)"
   ]
  },
  {
   "cell_type": "code",
   "execution_count": 7,
   "metadata": {},
   "outputs": [],
   "source": [
    "tm = TM(planet=p, star=s, instrument=i, directory='example/')\n",
    "tlc.linkModel(tm)"
   ]
  },
  {
   "cell_type": "code",
   "execution_count": 8,
   "metadata": {},
   "outputs": [
    {
     "data": {
      "image/png": "[encoded data removed]",
      "text/plain": [
       "<Figure size 432x288 with 1 Axes>"
      ]
     },
     "metadata": {},
     "output_type": "display_data"
    }
   ],
   "source": [
    "m = tm.planet_model(t=bjd)\n",
    "tlc.flux = m+np.random.normal(0, 1, len(bjd))*fluxerr\n",
    "tlc.plot(alpha=0.3)"
   ]
  },
  {
   "cell_type": "code",
   "execution_count": 9,
   "metadata": {},
   "outputs": [
    {
     "name": "stdout",
     "output_type": "stream",
     "text": [
      "           [lm] performing a fast LM fit\n",
      "           [lm] attempting to load from .example/lm/\n",
      "           [lm]     k\n",
      "           [lm]     C\n",
      "           [tm] using atmosphere model as prior on LD coefficients\n",
      "           [lm] running mpfit minimization\n"
     ]
    },
    {
     "ename": "NameError",
     "evalue": "global name 'mpfit' is not defined",
     "output_type": "error",
     "traceback": [
      "\u001b[0;31m---------------------------------------------------------------------------\u001b[0m",
      "\u001b[0;31mNameError\u001b[0m                                 Traceback (most recent call last)",
      "\u001b[0;32m<ipython-input-9-205ed54fa730>\u001b[0m in \u001b[0;36m<module>\u001b[0;34m()\u001b[0m\n\u001b[1;32m      1\u001b[0m \u001b[0mtm\u001b[0m\u001b[0;34m.\u001b[0m\u001b[0mplanet\u001b[0m\u001b[0;34m.\u001b[0m\u001b[0mrp_over_rs\u001b[0m\u001b[0;34m.\u001b[0m\u001b[0mfloat\u001b[0m\u001b[0;34m(\u001b[0m\u001b[0;36m0.1\u001b[0m\u001b[0;34m,\u001b[0m \u001b[0;34m[\u001b[0m\u001b[0;36m0.05\u001b[0m\u001b[0;34m,\u001b[0m \u001b[0;36m0.15\u001b[0m\u001b[0;34m]\u001b[0m\u001b[0;34m)\u001b[0m\u001b[0;34m\u001b[0m\u001b[0m\n\u001b[1;32m      2\u001b[0m \u001b[0mtm\u001b[0m\u001b[0;34m.\u001b[0m\u001b[0minstrument\u001b[0m\u001b[0;34m.\u001b[0m\u001b[0mC\u001b[0m\u001b[0;34m.\u001b[0m\u001b[0mfloat\u001b[0m\u001b[0;34m(\u001b[0m\u001b[0;36m1\u001b[0m\u001b[0;34m,\u001b[0m \u001b[0;34m[\u001b[0m\u001b[0;36m0.99\u001b[0m\u001b[0;34m,\u001b[0m\u001b[0;36m1.01\u001b[0m\u001b[0;34m]\u001b[0m\u001b[0;34m)\u001b[0m\u001b[0;34m\u001b[0m\u001b[0m\n\u001b[0;32m----> 3\u001b[0;31m \u001b[0mtm\u001b[0m\u001b[0;34m.\u001b[0m\u001b[0mfastfit\u001b[0m\u001b[0;34m(\u001b[0m\u001b[0;34m)\u001b[0m\u001b[0;34m\u001b[0m\u001b[0m\n\u001b[0m\u001b[1;32m      4\u001b[0m \u001b[0mtlc\u001b[0m\u001b[0;34m.\u001b[0m\u001b[0mLightcurvePlots\u001b[0m\u001b[0;34m(\u001b[0m\u001b[0;34m)\u001b[0m\u001b[0;34m\u001b[0m\u001b[0m\n\u001b[1;32m      5\u001b[0m \u001b[0;31m#tm.plot()\u001b[0m\u001b[0;34m\u001b[0m\u001b[0;34m\u001b[0m\u001b[0m\n",
      "\u001b[0;32m/Users/zkbt/Dropbox/code/python/packages/transit/transit/TM.pyc\u001b[0m in \u001b[0;36mfastfit\u001b[0;34m(self, **kwargs)\u001b[0m\n\u001b[1;32m    392\u001b[0m         \u001b[0;32mdef\u001b[0m \u001b[0mfastfit\u001b[0m\u001b[0;34m(\u001b[0m\u001b[0mself\u001b[0m\u001b[0;34m,\u001b[0m \u001b[0;34m**\u001b[0m\u001b[0mkwargs\u001b[0m\u001b[0;34m)\u001b[0m\u001b[0;34m:\u001b[0m\u001b[0;34m\u001b[0m\u001b[0m\n\u001b[1;32m    393\u001b[0m                 \u001b[0mself\u001b[0m\u001b[0;34m.\u001b[0m\u001b[0mfitter\u001b[0m \u001b[0;34m=\u001b[0m \u001b[0mLM\u001b[0m\u001b[0;34m(\u001b[0m\u001b[0mself\u001b[0m\u001b[0;34m,\u001b[0m \u001b[0;34m**\u001b[0m\u001b[0mkwargs\u001b[0m\u001b[0;34m)\u001b[0m\u001b[0;34m\u001b[0m\u001b[0m\n\u001b[0;32m--> 394\u001b[0;31m                 \u001b[0mself\u001b[0m\u001b[0;34m.\u001b[0m\u001b[0mfitter\u001b[0m\u001b[0;34m.\u001b[0m\u001b[0mfit\u001b[0m\u001b[0;34m(\u001b[0m\u001b[0;34m**\u001b[0m\u001b[0mkwargs\u001b[0m\u001b[0;34m)\u001b[0m\u001b[0;34m\u001b[0m\u001b[0m\n\u001b[0m\u001b[1;32m    395\u001b[0m \u001b[0;34m\u001b[0m\u001b[0m\n\u001b[1;32m    396\u001b[0m         \u001b[0;32mdef\u001b[0m \u001b[0mslowfit\u001b[0m\u001b[0;34m(\u001b[0m\u001b[0mself\u001b[0m\u001b[0;34m,\u001b[0m \u001b[0;34m**\u001b[0m\u001b[0mkwargs\u001b[0m\u001b[0;34m)\u001b[0m\u001b[0;34m:\u001b[0m\u001b[0;34m\u001b[0m\u001b[0m\n",
      "\u001b[0;32m/Users/zkbt/Dropbox/code/python/packages/transit/transit/Fits.pyc\u001b[0m in \u001b[0;36mfit\u001b[0;34m(self, plot, quiet, ldpriors, identifyoutliers, remake, **kwargs)\u001b[0m\n\u001b[1;32m     78\u001b[0m             \u001b[0;31m# perform the LM fit, to get best fit parameters and covariance matrix\u001b[0m\u001b[0;34m\u001b[0m\u001b[0;34m\u001b[0m\u001b[0m\n\u001b[1;32m     79\u001b[0m             \u001b[0mself\u001b[0m\u001b[0;34m.\u001b[0m\u001b[0mspeak\u001b[0m\u001b[0;34m(\u001b[0m\u001b[0;34m'running mpfit minimization'\u001b[0m\u001b[0;34m)\u001b[0m\u001b[0;34m\u001b[0m\u001b[0m\n\u001b[0;32m---> 80\u001b[0;31m             \u001b[0mself\u001b[0m\u001b[0;34m.\u001b[0m\u001b[0mmpfitted\u001b[0m \u001b[0;34m=\u001b[0m \u001b[0mmpfit\u001b[0m\u001b[0;34m.\u001b[0m\u001b[0mmpfit\u001b[0m\u001b[0;34m(\u001b[0m\u001b[0mself\u001b[0m\u001b[0;34m.\u001b[0m\u001b[0mmodel\u001b[0m\u001b[0;34m.\u001b[0m\u001b[0mdeviates\u001b[0m\u001b[0;34m,\u001b[0m \u001b[0mp0\u001b[0m\u001b[0;34m,\u001b[0m \u001b[0mparinfo\u001b[0m\u001b[0;34m=\u001b[0m\u001b[0mparinfo\u001b[0m\u001b[0;34m,\u001b[0m \u001b[0mquiet\u001b[0m\u001b[0;34m=\u001b[0m\u001b[0mquiet\u001b[0m\u001b[0;34m)\u001b[0m\u001b[0;34m\u001b[0m\u001b[0m\n\u001b[0m\u001b[1;32m     81\u001b[0m \u001b[0;34m\u001b[0m\u001b[0m\n\u001b[1;32m     82\u001b[0m             \u001b[0;31m# set the parameters to their fitted values\u001b[0m\u001b[0;34m\u001b[0m\u001b[0;34m\u001b[0m\u001b[0m\n",
      "\u001b[0;31mNameError\u001b[0m: global name 'mpfit' is not defined"
     ]
    }
   ],
   "source": [
    "tm.planet.rp_over_rs.float(0.1, [0.05, 0.15])\n",
    "tm.instrument.C.float(1, [0.99,1.01])\n",
    "tm.fastfit()\n",
    "tlc.LightcurvePlots()\n",
    "#tm.plot()\n"
   ]
  },
  {
   "cell_type": "code",
   "execution_count": null,
   "metadata": {},
   "outputs": [],
   "source": [
    "tlc.ready"
   ]
  },
  {
   "cell_type": "code",
   "execution_count": null,
   "metadata": {},
   "outputs": [],
   "source": [
    "tlc.colors['points']"
   ]
  },
  {
   "cell_type": "code",
   "execution_count": null,
   "metadata": {},
   "outputs": [],
   "source": [
    "tlc.color"
   ]
  },
  {
   "cell_type": "raw",
   "metadata": {},
   "source": []
  }
 ],
 "metadata": {
  "kernelspec": {
   "display_name": "Python 2",
   "language": "python",
   "name": "python2"
  },
  "language_info": {
   "codemirror_mode": {
    "name": "ipython",
    "version": 2
   },
   "file_extension": ".py",
   "mimetype": "text/x-python",
   "name": "python",
   "nbconvert_exporter": "python",
   "pygments_lexer": "ipython2",
   "version": "2.7.13"
  }
 },
 "nbformat": 4,
 "nbformat_minor": 2
}
